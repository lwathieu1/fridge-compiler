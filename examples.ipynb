{
 "cells": [
  {
   "cell_type": "code",
   "execution_count": null,
   "metadata": {},
   "outputs": [],
   "source": [
    "from fridge_utils import *"
   ]
  },
  {
   "cell_type": "code",
   "execution_count": null,
   "metadata": {},
   "outputs": [],
   "source": [
    "(inv_name, reactions, in_options, out_species, inputs_distinct) = get_inv_5g_12w()\n",
    "print('inv_name', inv_name)\n",
    "print('reactions', reactions)\n",
    "print('in_options', in_options)\n",
    "print('out_species', out_species)"
   ]
  },
  {
   "cell_type": "code",
   "execution_count": null,
   "metadata": {},
   "outputs": [],
   "source": [
    "f_i0 = 5 \n",
    "f_i1 = 7\n",
    "run_test_inv_2f(f_i0=f_i0, f_i1=f_i1, f_i1_len=1, inv_function=get_inv_3G_complete_cyclic, filename='out.txt', N_XVARS=3, verif=True, printit=True, progressbar=False, print_delay = False, opt=True)"
   ]
  },
  {
   "cell_type": "code",
   "execution_count": null,
   "metadata": {},
   "outputs": [],
   "source": [
    "f_i0 = 0 \n",
    "run_test_inv_1f(f_i=f_i0, f_i_len=1, inv_function=get_inv_19g_27w, filename='out.txt', N_XVARS=3, verif=True, printit=True, progressbar=False, print_delay = False)"
   ]
  }
 ],
 "metadata": {
  "kernelspec": {
   "display_name": "fridger_k",
   "language": "python",
   "name": "fridger_k"
  },
  "language_info": {
   "codemirror_mode": {
    "name": "ipython",
    "version": 3
   },
   "file_extension": ".py",
   "mimetype": "text/x-python",
   "name": "python",
   "nbconvert_exporter": "python",
   "pygments_lexer": "ipython3",
   "version": "3.11.4"
  },
  "orig_nbformat": 4
 },
 "nbformat": 4,
 "nbformat_minor": 2
}
